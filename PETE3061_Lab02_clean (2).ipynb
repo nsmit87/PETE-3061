{
 "cells": [
  {
   "cell_type": "markdown",
   "metadata": {},
   "source": [
    "# Finding Roots"
   ]
  },
  {
   "cell_type": "markdown",
   "metadata": {},
   "source": [
    "#### Find the solutions of f (x) = 0, where the function f is given.\n",
    "\n",
    "In basic algebra, we learned to solve for the roots of the quadratic equation.\n",
    "\n",
    "$$f(x)=ax^2+bx+c=0$$\n",
    "\n",
    "It is also known as finding the \"zeros\" of the equation, or where the equation crosses the x-axis i.e. $f(x)=0$. The quadradic formula is as follows:\n",
    "\n",
    "$$x = \\frac{-b\\pm\\sqrt{b^2-4ac}}{2a}$$\n",
    "\n",
    "This is easy to solve by hand. However, what happens when when the equations become much more complicated like higher order algebraic equations or transcendental equations. Then numerical solutions are the only way."
   ]
  },
  {
   "cell_type": "markdown",
   "metadata": {},
   "source": [
    "## Simple solution\n",
    "Lets solve the simple quadratic by letting $a=2$, $b=-11$, and $c=5$.\n",
    "\n",
    "$$f(x)=2x^2-11+5=0$$\n",
    "\n",
    "We can manually solve this using the quadratic solution above.\n",
    "\n",
    "$$x = \\frac{-11\\pm\\sqrt{-11^2-2*5}}{2*2}=1/2\\space and \\space 5$$"
   ]
  },
  {
   "cell_type": "code",
   "execution_count": 1,
   "metadata": {},
   "outputs": [
    {
     "data": {
      "text/latex": [
       "$\\displaystyle a x^{2} + b x + c$"
      ],
      "text/plain": [
       "a*x**2 + b*x + c"
      ]
     },
     "execution_count": 1,
     "metadata": {},
     "output_type": "execute_result"
    }
   ],
   "source": [
    "import numpy as np\n",
    "import sympy as sp\n",
    "import matplotlib.pyplot as plt\n",
    "a,b,c,x = sp.symbols('a b c x')\n",
    "expr = a*x**2+b*x+c\n",
    "expr"
   ]
  },
  {
   "cell_type": "code",
   "execution_count": null,
   "metadata": {},
   "outputs": [],
   "source": [
    "x1, x2 = sp.solve(expr,x)"
   ]
  },
  {
   "cell_type": "code",
   "execution_count": null,
   "metadata": {},
   "outputs": [],
   "source": [
    "x1"
   ]
  },
  {
   "cell_type": "code",
   "execution_count": null,
   "metadata": {},
   "outputs": [],
   "source": [
    "x2"
   ]
  },
  {
   "cell_type": "code",
   "execution_count": null,
   "metadata": {},
   "outputs": [],
   "source": [
    "ac = 2\n",
    "bc = -11\n",
    "cc = 5\n",
    "f_x = expr.subs([(a,ac),(b,bc),(c,cc)])\n",
    "f_x"
   ]
  },
  {
   "cell_type": "markdown",
   "metadata": {},
   "source": [
    "## Plot to find potential zero ranges (bracketing methods)"
   ]
  },
  {
   "cell_type": "code",
   "execution_count": null,
   "metadata": {},
   "outputs": [],
   "source": [
    "sp.plot(f_x,(x,-5,10))"
   ]
  },
  {
   "cell_type": "code",
   "execution_count": null,
   "metadata": {},
   "outputs": [],
   "source": [
    "x1.subs([(a,ac),(b,bc),(c,cc)])"
   ]
  },
  {
   "cell_type": "code",
   "execution_count": null,
   "metadata": {},
   "outputs": [],
   "source": [
    "x2.subs(([(a,ac),(b,bc),(c,cc)]))"
   ]
  },
  {
   "cell_type": "markdown",
   "metadata": {},
   "source": [
    "## Numerical methods"
   ]
  },
  {
   "cell_type": "markdown",
   "metadata": {},
   "source": [
    "### Definition of function"
   ]
  },
  {
   "cell_type": "code",
   "execution_count": null,
   "metadata": {},
   "outputs": [],
   "source": [
    "import math\n",
    "import numpy as np\n",
    "\n",
    "def f(x): return 2*x**2-11*x+5"
   ]
  },
  {
   "cell_type": "markdown",
   "metadata": {},
   "source": [
    "### Implementation of bracketing method from book"
   ]
  },
  {
   "cell_type": "code",
   "execution_count": null,
   "metadata": {},
   "outputs": [],
   "source": [
    "def bisection(f,x1,x2,switch=1,tol=1.0e-9):\n",
    "    f1 = f(x1)\n",
    "    if f1 == 0.0: return x1\n",
    "    f2 = f(x2)\n",
    "    if f2 == 0.0: return x2\n",
    "    if np.sign(f1) == np.sign(f2):\n",
    "        print(\"Root is not bracketed\")\n",
    "    n = int(math.ceil(math.log(abs(x2-x1)/tol)/math.log(2.0)))\n",
    "    \n",
    "    for i in range (n):\n",
    "        x3 = 0.5*(x1+x2); f3 = f(x3)\n",
    "        if (switch == 1) and (abs(f3) > abs(f1)) and (abs(f3) > abs(f2)):\n",
    "            return none\n",
    "        if f3 == 0.0: return x3\n",
    "        if np.sign(f2)!= np.sign(f3): x1 = x3; f1 = f3\n",
    "        else: x2 = x3; f2= f3\n",
    "    return (x1 + x2)/2.0\n",
    "        "
   ]
  },
  {
   "cell_type": "markdown",
   "metadata": {},
   "source": [
    "### Run method on function"
   ]
  },
  {
   "cell_type": "code",
   "execution_count": null,
   "metadata": {},
   "outputs": [],
   "source": [
    "bisection(f,0,2,switch=1,tol=1.0e-9)"
   ]
  },
  {
   "cell_type": "code",
   "execution_count": null,
   "metadata": {},
   "outputs": [],
   "source": [
    "bisection(f,4,6,switch=1,tol=1.0e-9)"
   ]
  },
  {
   "cell_type": "markdown",
   "metadata": {},
   "source": [
    "### Use high grade method from scipy"
   ]
  },
  {
   "cell_type": "code",
   "execution_count": null,
   "metadata": {},
   "outputs": [],
   "source": [
    "from scipy.optimize import bisect \n",
    "bisect(f,3,6,xtol=1.0e-9)"
   ]
  },
  {
   "cell_type": "code",
   "execution_count": null,
   "metadata": {},
   "outputs": [],
   "source": [
    "bisect(f,0,2,xtol=1.0e-9)"
   ]
  },
  {
   "cell_type": "markdown",
   "metadata": {},
   "source": [
    "### Solving for other functions"
   ]
  },
  {
   "cell_type": "code",
   "execution_count": null,
   "metadata": {},
   "outputs": [],
   "source": [
    "def f(x): return x**3-10*x**2+5"
   ]
  },
  {
   "cell_type": "code",
   "execution_count": null,
   "metadata": {},
   "outputs": [],
   "source": [
    "x = np.arange(-3,10,0.01)\n",
    "plt.plot(x,f(x))\n",
    "plt.hlines(0,-3,10)"
   ]
  },
  {
   "cell_type": "code",
   "execution_count": null,
   "metadata": {},
   "outputs": [],
   "source": [
    "from scipy.optimize import bisect \n",
    "bisect(f,0,2,xtol=1.0e-9)"
   ]
  },
  {
   "cell_type": "code",
   "execution_count": null,
   "metadata": {},
   "outputs": [],
   "source": [
    "bisect(f,8,10,xtol=1.0e-9)"
   ]
  },
  {
   "cell_type": "markdown",
   "metadata": {},
   "source": [
    "## Real Problems"
   ]
  },
  {
   "cell_type": "markdown",
   "metadata": {},
   "source": [
    "### Example of spherical tank (using Newton Raphson)"
   ]
  },
  {
   "cell_type": "markdown",
   "metadata": {},
   "source": [
    "A spherical tank of radius $5ft$ is constructed and the level of water in it, or height $h$ needs to be measured when the tank reaches $20ft^3$ of volume. The equation for the volume of liquid is as follows:\n",
    "\n",
    "$$V = \\pi h^2 \\frac{[3r-h]}{3}$$\n",
    "\n",
    "where $V$ is volume, $h$ is level height of fluid, and $r$ is the radius of the tank.\n",
    "\n",
    "Lets use the Newton Raphson open method to solve.\n",
    "\n",
    "$$x_{i+1}=x_i-\\frac{f(x_i)}{f'(x_i)}$$\n",
    "\n",
    "NR Error calculation\n",
    "\n",
    "$$E_a=\\left| \\frac{(x_{i+1}-x_i)}{x_{i+1}} \\right| \\times100$$"
   ]
  },
  {
   "cell_type": "code",
   "execution_count": null,
   "metadata": {},
   "outputs": [],
   "source": [
    "V = 20\n",
    "r = 5 \n",
    "\n",
    "def tank(h): return np.pi*h**2*(3*r-h)/3 - V\n",
    "\n",
    "def d_tank(h): return np.pi*(2*h*r-h**2)"
   ]
  },
  {
   "cell_type": "markdown",
   "metadata": {},
   "source": [
    "### Code"
   ]
  },
  {
   "cell_type": "code",
   "execution_count": null,
   "metadata": {},
   "outputs": [],
   "source": [
    "x = np.arange(-3,10,0.01)\n",
    "plt.plot(x,tank(x))\n",
    "plt.hlines(0,-3,10)"
   ]
  },
  {
   "cell_type": "markdown",
   "metadata": {},
   "source": [
    "### Plotting"
   ]
  },
  {
   "cell_type": "code",
   "execution_count": null,
   "metadata": {},
   "outputs": [],
   "source": [
    "x1 = input(\"input guess\")\n",
    "\n",
    "Ea = 100\n",
    "xi = 2\n",
    "n = 0\n",
    "\n",
    "while Ea > 1:\n",
    "    xnew = xi - tank(xi)/d_tank(xi)\n",
    "    Ea = abs((xnew-xi)/xnew)*100\n",
    "    n+=1\n",
    "    print(xnew,Ea)\n",
    "    xi = xnew"
   ]
  },
  {
   "cell_type": "markdown",
   "metadata": {},
   "source": [
    "### Loop"
   ]
  },
  {
   "cell_type": "code",
   "execution_count": null,
   "metadata": {},
   "outputs": [],
   "source": []
  },
  {
   "cell_type": "markdown",
   "metadata": {},
   "source": [
    "### Comparison with bisection method from earlier"
   ]
  },
  {
   "cell_type": "code",
   "execution_count": null,
   "metadata": {},
   "outputs": [],
   "source": []
  },
  {
   "cell_type": "markdown",
   "metadata": {},
   "source": [
    "### 1 - Vogel's inflow performance relationship\n",
    "Vogel was the first to present an easy-to-use method for predicting the performance of oil wells. His empirical inflow performance relationship (IPR) is based on computer simulation results and is given by\n",
    "\n",
    "$$\\frac{q_o}{q_{o,max}}=1-0.2\\left(\\frac{p_{wf}}{\\bar p_R}\\right)-0.8\\left(\\frac{p_{wf}}{\\bar p_R}\\right)^2$$\n",
    "\n",
    "$q_o$ is the oil flow rate in _STB/D_\n",
    "\n",
    "$q_{o,max}$ is the maximum oil flow rate in _STB/D_\n",
    "\n",
    "$p_{wf}$ is bottomhole pressure in _psia_\n",
    "\n",
    "$\\bar p_R$ is average reservoir pressure in _psia_\n",
    "\n"
   ]
  },
  {
   "cell_type": "markdown",
   "metadata": {},
   "source": [
    "### Application of Vogel's (using scipy methods)\n",
    "A well is producing from a reservoir having an average reservoir pressure of 2,300 _psig_. A stabilized production test on the well resulted in a producing rate of 385 _STB/day_ when the flowing bottom hole pressure was 1,631 _psig_.\n",
    "\n",
    "#### First find the maximum production rate $q_{o,max}$. "
   ]
  },
  {
   "cell_type": "code",
   "execution_count": 3,
   "metadata": {},
   "outputs": [
    {
     "data": {
      "text/latex": [
       "$\\displaystyle 1 - \\frac{0.2 pwf}{p_{r}} - \\frac{0.8 pwf^{2}}{p_{r}^{2}}$"
      ],
      "text/plain": [
       "1 - 0.2*pwf/p_r - 0.8*pwf**2/p_r**2"
      ]
     },
     "execution_count": 3,
     "metadata": {},
     "output_type": "execute_result"
    }
   ],
   "source": [
    "pwf,p_r = sp.symbols('pwf p_r')\n",
    "\n",
    "q_ratio = 1-0.2*(pwf/p_r)-0.8*(pwf/p_r)**2\n",
    "q_ratio"
   ]
  },
  {
   "cell_type": "code",
   "execution_count": 4,
   "metadata": {},
   "outputs": [
    {
     "data": {
      "text/plain": [
       "844.5183867117552"
      ]
     },
     "execution_count": 4,
     "metadata": {},
     "output_type": "execute_result"
    }
   ],
   "source": [
    "qo = 385\n",
    "pwf = 1631\n",
    "pbar_r = 2300\n",
    "\n",
    "qo_max_inv = (1-0.2*(pwf/pbar_r)-0.8*(pwf/pbar_r)**2)/qo\n",
    "qo_max = 1/qo_max_inv\n",
    "qo_max"
   ]
  },
  {
   "cell_type": "markdown",
   "metadata": {},
   "source": [
    "#### Now use root finding to find a specific producing bottom hole pressure\n",
    "If we desire an inflow rate of 650 _STB/D_ what is the required bottom hole pressure."
   ]
  },
  {
   "cell_type": "markdown",
   "metadata": {},
   "source": [
    "#### Plot"
   ]
  },
  {
   "cell_type": "code",
   "execution_count": 5,
   "metadata": {},
   "outputs": [
    {
     "data": {
      "text/latex": [
       "$\\displaystyle 0.23033055262318 - \\frac{0.2 pwf}{p_{r}} - \\frac{0.8 pwf^{2}}{p_{r}^{2}}$"
      ],
      "text/plain": [
       "0.23033055262318 - 0.2*pwf/p_r - 0.8*pwf**2/p_r**2"
      ]
     },
     "execution_count": 5,
     "metadata": {},
     "output_type": "execute_result"
    }
   ],
   "source": [
    "expr = q_ratio-(650/qo_max)\n",
    "expr"
   ]
  },
  {
   "cell_type": "markdown",
   "metadata": {},
   "source": [
    "### Define function"
   ]
  },
  {
   "cell_type": "code",
   "execution_count": 7,
   "metadata": {},
   "outputs": [
    {
     "data": {
      "text/plain": [
       "<matplotlib.collections.LineCollection at 0x22987317550>"
      ]
     },
     "execution_count": 7,
     "metadata": {},
     "output_type": "execute_result"
    },
    {
     "data": {
      "image/png": "[encoded data removed]",
      "text/plain": [
       "<Figure size 432x288 with 1 Axes>"
      ]
     },
     "metadata": {
      "needs_background": "light"
     },
     "output_type": "display_data"
    }
   ],
   "source": [
    "def f(x): return (1-0.2*(x/2300.)-0.8*(x/2300.)**2)-(650/844.5)\n",
    "x = np.arange(0,1000,0.01)\n",
    "plt.plot(x,f(x))\n",
    "plt.hlines(0,0,1000)"
   ]
  },
  {
   "cell_type": "markdown",
   "metadata": {},
   "source": [
    "### Solve"
   ]
  },
  {
   "cell_type": "markdown",
   "metadata": {},
   "source": [
    "#### Bracketed Method (scipy.bisect)"
   ]
  },
  {
   "cell_type": "code",
   "execution_count": 12,
   "metadata": {},
   "outputs": [
    {
     "data": {
      "text/plain": [
       "979.625179618597"
      ]
     },
     "execution_count": 12,
     "metadata": {},
     "output_type": "execute_result"
    }
   ],
   "source": [
    "import scipy\n",
    "from scipy.optimize import bisect\n",
    "x = bisect(f,800,1000,xtol=1e-6)\n",
    "x"
   ]
  },
  {
   "cell_type": "markdown",
   "metadata": {},
   "source": [
    "#### Open method (scipy.optimize.fsolve)"
   ]
  },
  {
   "cell_type": "code",
   "execution_count": 14,
   "metadata": {},
   "outputs": [
    {
     "data": {
      "text/plain": [
       "array([979.62517945])"
      ]
     },
     "execution_count": 14,
     "metadata": {},
     "output_type": "execute_result"
    }
   ],
   "source": [
    "x = scipy.optimize.fsolve(f,800.)\n",
    "x"
   ]
  },
  {
   "cell_type": "markdown",
   "metadata": {},
   "source": [
    "### 2 - Pipe Friction (using scipy methods)"
   ]
  },
  {
   "cell_type": "markdown",
   "metadata": {},
   "source": [
    "The Colebrook equation is a very common way to calculate friction factor (a dimensionless number that characterizes the pipe's resistance to flow) for pipe flow when the flow is turbulent i.e. $Re>4000$.\n",
    "\n",
    "$$0 = \\frac{1}{\\sqrt{f}}+2.0log\\left (\\frac{\\epsilon}{3.7D}+\\frac{2.51}{Re\\sqrt{f}} \\right) $$\n",
    "\n",
    "where $\\epsilon$ = the roughness in _m_, $D$ = diameter in _m_, and $Re$ = the _Reynolds number_\n",
    "\n",
    "$$Re=\\frac{\\rho V D}{\\mu}$$\n",
    "\n",
    "where $\\rho$ = the fluid's density in $kg/m^3$, $V$ is the fluid velocity in _m/s_, and $\\mu$ = dynamic viscosity in $N \\cdot s/m^2$"
   ]
  },
  {
   "cell_type": "markdown",
   "metadata": {},
   "source": [
    "#### Solve for the friction factor for a specific pipe flow "
   ]
  },
  {
   "cell_type": "markdown",
   "metadata": {},
   "source": [
    "Assume for the case of $\\rho=1.23kg/m^3$, $\\mu=1.79\\times10^{-5}N\\cdot s/m^2$, $D=0.005m$, $V=40m/s$, and $\\epsilon=0.0015mm$."
   ]
  },
  {
   "cell_type": "markdown",
   "metadata": {},
   "source": [
    "#### First calculate Reynolds Number"
   ]
  },
  {
   "cell_type": "code",
   "execution_count": 16,
   "metadata": {},
   "outputs": [
    {
     "data": {
      "text/plain": [
       "13743.016759776536"
      ]
     },
     "execution_count": 16,
     "metadata": {},
     "output_type": "execute_result"
    }
   ],
   "source": [
    "p = 1.23\n",
    "u = 1.79e-5\n",
    "D = .005 \n",
    "v = 40.\n",
    "E = .0015e-3\n",
    "Re = (p*v*D)/u\n",
    "Re"
   ]
  },
  {
   "cell_type": "markdown",
   "metadata": {},
   "source": [
    "### Define function"
   ]
  },
  {
   "cell_type": "code",
   "execution_count": 25,
   "metadata": {},
   "outputs": [
    {
     "data": {
      "text/plain": [
       "-4.384475363031129"
      ]
     },
     "execution_count": 25,
     "metadata": {},
     "output_type": "execute_result"
    }
   ],
   "source": [
    "def f(x): return 1./np.sqrt(x)+2.*np.log10((E/(3.7*D))+(2.51/(Re*np.sqrt(x))))\n",
    "f(.2)"
   ]
  },
  {
   "cell_type": "markdown",
   "metadata": {},
   "source": [
    "### Plot to see where root value may lie"
   ]
  },
  {
   "cell_type": "code",
   "execution_count": 27,
   "metadata": {},
   "outputs": [
    {
     "name": "stderr",
     "output_type": "stream",
     "text": [
      "C:\\ProgramData\\Anaconda3\\lib\\site-packages\\ipykernel_launcher.py:1: RuntimeWarning: divide by zero encountered in true_divide\n",
      "  \"\"\"Entry point for launching an IPython kernel.\n"
     ]
    },
    {
     "data": {
      "text/plain": [
       "<matplotlib.collections.LineCollection at 0x229892a7278>"
      ]
     },
     "execution_count": 27,
     "metadata": {},
     "output_type": "execute_result"
    },
    {
     "data": {
      "image/png": "[encoded data removed]",
      "text/plain": [
       "<Figure size 432x288 with 1 Axes>"
      ]
     },
     "metadata": {
      "needs_background": "light"
     },
     "output_type": "display_data"
    }
   ],
   "source": [
    "x = np.arange(0,.1,0.00001)\n",
    "plt.plot(x,f(x))\n",
    "plt.hlines(0,0,.1)"
   ]
  },
  {
   "cell_type": "markdown",
   "metadata": {},
   "source": [
    "#### Bracketed Method"
   ]
  },
  {
   "cell_type": "code",
   "execution_count": 28,
   "metadata": {},
   "outputs": [
    {
     "name": "stderr",
     "output_type": "stream",
     "text": [
      "C:\\ProgramData\\Anaconda3\\lib\\site-packages\\ipykernel_launcher.py:1: RuntimeWarning: divide by zero encountered in double_scalars\n",
      "  \"\"\"Entry point for launching an IPython kernel.\n"
     ]
    },
    {
     "data": {
      "text/plain": [
       "0.028968200683593747"
      ]
     },
     "execution_count": 28,
     "metadata": {},
     "output_type": "execute_result"
    }
   ],
   "source": [
    "x = bisect(f,0,.06,xtol=1e-6)\n",
    "x"
   ]
  },
  {
   "cell_type": "markdown",
   "metadata": {},
   "source": [
    "#### Open method"
   ]
  },
  {
   "cell_type": "code",
   "execution_count": 29,
   "metadata": {},
   "outputs": [
    {
     "data": {
      "text/plain": [
       "array([0.02896781])"
      ]
     },
     "execution_count": 29,
     "metadata": {},
     "output_type": "execute_result"
    }
   ],
   "source": [
    "x = scipy.optimize.fsolve(f,.01)\n",
    "x"
   ]
  }
 ],
 "metadata": {
  "kernelspec": {
   "display_name": "Python 3",
   "language": "python",
   "name": "python3"
  },
  "language_info": {
   "codemirror_mode": {
    "name": "ipython",
    "version": 3
   },
   "file_extension": ".py",
   "mimetype": "text/x-python",
   "name": "python",
   "nbconvert_exporter": "python",
   "pygments_lexer": "ipython3",
   "version": "3.7.3"
  }
 },
 "nbformat": 4,
 "nbformat_minor": 4
}
